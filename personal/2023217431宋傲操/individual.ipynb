{
 "cells": [
  {
   "cell_type": "markdown",
   "metadata": {},
   "source": [
    "### AdaBoost"
   ]
  },
  {
   "metadata": {
    "ExecuteTime": {
     "end_time": "2025-05-31T08:18:19.042429Z",
     "start_time": "2025-05-31T08:18:18.641890Z"
    }
   },
   "cell_type": "code",
   "source": [
    "import pandas as pd\n",
    "import numpy as np\n",
    "import os\n",
    "from sklearn.model_selection import train_test_split\n",
    "from sklearn.preprocessing import StandardScaler\n",
    "from sklearn.ensemble import AdaBoostClassifier\n",
    "from sklearn.metrics import accuracy_score, confusion_matrix, roc_curve, auc\n",
    "import matplotlib.pyplot as plt\n",
    "import seaborn as sns\n",
    "from sklearn.model_selection import learning_curve\n",
    "from sklearn.metrics import accuracy_score, confusion_matrix, roc_curve, auc, precision_recall_curve, classification_report\n",
    "from sklearn.metrics import classification_report\n",
    "# 加载数据\n",
    "df = pd.read_csv('breast cancer.csv')\n",
    "df = df.drop(['id', 'Unnamed: 32'], axis=1)\n",
    "df['diagnosis'] = df['diagnosis'].map({'M': 1, 'B': 0})\n",
    "X = df.drop('diagnosis', axis=1)\n",
    "y = df['diagnosis']\n",
    "# 设置支持中文的字体（例如 SimHei）\n",
    "plt.rcParams['font.sans-serif'] = ['SimHei']  # 使用黑体\n",
    "plt.rcParams['axes.unicode_minus'] = False    # 解决负号显示问题\n",
    "# 标准化和分割数据集\n",
    "scaler = StandardScaler()\n",
    "X = scaler.fit_transform(X)\n",
    "X_train, X_test, y_train, y_test = train_test_split(X, y, test_size=0.2, random_state=42)\n",
    "\n",
    "print(\"数据预处理完成：X_train shape:\", X_train.shape, \"X_test shape:\", X_test.shape)\n",
    "print(\"训练集正负类分布:\", pd.Series(y_train).value_counts())\n",
    "print(\"测试集正负类分布:\", pd.Series(y_test).value_counts())"
   ],
   "outputs": [
    {
     "name": "stdout",
     "output_type": "stream",
     "text": [
      "数据预处理完成：X_train shape: (455, 30) X_test shape: (114, 30)\n",
      "训练集正负类分布: diagnosis\n",
      "0    286\n",
      "1    169\n",
      "Name: count, dtype: int64\n",
      "测试集正负类分布: diagnosis\n",
      "0    71\n",
      "1    43\n",
      "Name: count, dtype: int64\n"
     ]
    }
   ],
   "execution_count": 1
  },
  {
   "metadata": {
    "ExecuteTime": {
     "end_time": "2025-05-31T08:18:23.634591Z",
     "start_time": "2025-05-31T08:18:22.897984Z"
    }
   },
   "cell_type": "code",
   "source": [
    "# 定义 AdaBoost 模型\n",
    "adaboost_model = AdaBoostClassifier(learning_rate=0.1, n_estimators=200, random_state=42,algorithm='SAMME')\n",
    "\n",
    "# 训练模型\n",
    "adaboost_model.fit(X_train, y_train)\n",
    "\n",
    "# 预测\n",
    "y_pred_adaboost = adaboost_model.predict(X_test)\n",
    "y_prob_adaboost = adaboost_model.predict_proba(X_test)[:, 1]\n",
    "\n",
    "# 准确率\n",
    "accuracy_adaboost = accuracy_score(y_test, y_pred_adaboost)\n",
    "print(f\"AdaBoost 准确率: {accuracy_adaboost:.4f}\")\n",
    "# 分类报告\n",
    "print(\"AdaBoost 分类报告:\")\n",
    "print(classification_report(y_test, y_pred_adaboost))"
   ],
   "outputs": [
    {
     "name": "stdout",
     "output_type": "stream",
     "text": [
      "AdaBoost 准确率: 0.9649\n",
      "AdaBoost 分类报告:\n",
      "              precision    recall  f1-score   support\n",
      "\n",
      "           0       0.96      0.99      0.97        71\n",
      "           1       0.98      0.93      0.95        43\n",
      "\n",
      "    accuracy                           0.96       114\n",
      "   macro avg       0.97      0.96      0.96       114\n",
      "weighted avg       0.97      0.96      0.96       114\n",
      "\n"
     ]
    }
   ],
   "execution_count": 2
  },
  {
   "cell_type": "code",
   "metadata": {},
   "source": [
    "# 混淆矩阵\n",
    "cm_adaboost = confusion_matrix(y_test, y_pred_adaboost)\n",
    "plt.figure(figsize=(6, 5))\n",
    "sns.heatmap(cm_adaboost, annot=True, fmt='d', cmap='Blues')\n",
    "plt.title('AdaBoost 混淆矩阵-宋傲操')\n",
    "plt.xlabel('预测标签')\n",
    "plt.ylabel('真实标签')\n",
    "os.makedirs(f'picture/AdaBoost', exist_ok=True)\n",
    "plt.savefig(f'picture/AdaBoost/confusion_matrix.png')\n",
    "plt.show()\n",
    "# ROC 曲线\n",
    "fpr_adaboost, tpr_adaboost, _ = roc_curve(y_test, y_prob_adaboost)\n",
    "roc_auc_adaboost = auc(fpr_adaboost, tpr_adaboost)\n",
    "plt.figure(figsize=(6, 5))\n",
    "plt.plot(fpr_adaboost, tpr_adaboost, label=f'AdaBoost (AUC = {roc_auc_adaboost:.2f})')\n",
    "plt.plot([0, 1], [0, 1], 'k--')\n",
    "plt.xlabel('假阳性率')\n",
    "plt.ylabel('真阳性率')\n",
    "plt.title('AdaBoost ROC 曲线-宋傲操')\n",
    "plt.legend(loc='lower right')\n",
    "plt.grid(True)\n",
    "plt.savefig(f'picture/AdaBoost/roc_curve.png')\n",
    "plt.show()"
   ],
   "outputs": [],
   "execution_count": null
  },
  {
   "cell_type": "code",
   "metadata": {},
   "source": [
    "# 学习曲线\n",
    "train_sizes, train_scores, val_scores = learning_curve(adaboost_model, X_train, y_train, cv=5, n_jobs=-1)\n",
    "train_mean = np.mean(train_scores, axis=1)\n",
    "val_mean = np.mean(val_scores, axis=1)\n",
    "plt.figure(figsize=(8, 6))\n",
    "plt.plot(train_sizes, train_mean, label='Training Score')\n",
    "plt.plot(train_sizes, val_mean, label='Validation Score')\n",
    "plt.title('AdaBoost 学习曲线-宋傲操')\n",
    "plt.xlabel('Training Examples')\n",
    "plt.ylabel('Score')\n",
    "plt.legend(loc='best')\n",
    "plt.grid(True)\n",
    "plt.savefig(f'picture/AdaBoost/learning curve.png')\n",
    "plt.show()"
   ],
   "outputs": [],
   "execution_count": null
  },
  {
   "cell_type": "markdown",
   "metadata": {},
   "source": [
    "### CatBoost"
   ]
  },
  {
   "metadata": {},
   "cell_type": "code",
   "source": [
    "import pandas as pd\n",
    "import numpy as np\n",
    "from sklearn.model_selection import train_test_split\n",
    "from sklearn.preprocessing import StandardScaler\n",
    "from catboost import CatBoostClassifier\n",
    "from sklearn.metrics import accuracy_score, confusion_matrix, roc_curve, auc\n",
    "import matplotlib.pyplot as plt\n",
    "import seaborn as sns\n",
    "from sklearn.metrics import accuracy_score, confusion_matrix, roc_curve, auc, precision_recall_curve, classification_report\n",
    "# 加载数据\n",
    "df = pd.read_csv('breast cancer.csv')\n",
    "df = df.drop(['id', 'Unnamed: 32'], axis=1)\n",
    "df['diagnosis'] = df['diagnosis'].map({'M': 1, 'B': 0})\n",
    "X = df.drop('diagnosis', axis=1)\n",
    "y = df['diagnosis']\n",
    "# 设置支持中文的字体（例如 SimHei）\n",
    "plt.rcParams['font.sans-serif'] = ['SimHei']  # 使用黑体\n",
    "plt.rcParams['axes.unicode_minus'] = False    # 解决负号显示问题\n",
    "# 标准化和分割数据集\n",
    "scaler = StandardScaler()\n",
    "X = scaler.fit_transform(X)\n",
    "X_train, X_test, y_train, y_test = train_test_split(X, y, test_size=0.2, random_state=42)\n",
    "\n",
    "print(\"数据预处理完成：X_train shape:\", X_train.shape, \"X_test shape:\", X_test.shape)\n",
    "print(\"训练集正负类分布:\", pd.Series(y_train).value_counts())\n",
    "print(\"测试集正负类分布:\", pd.Series(y_test).value_counts())"
   ],
   "outputs": [],
   "execution_count": null
  },
  {
   "cell_type": "code",
   "metadata": {},
   "source": [
    "from catboost import CatBoostClassifier\n",
    "# 定义 CatBoost 模型\n",
    "catboost_model = CatBoostClassifier(l2_leaf_reg=3, depth=5, learning_rate=0.01, iterations=200, verbose=0, random_state=42)\n",
    "\n",
    "# 训练模型\n",
    "catboost_model.fit(X_train, y_train, eval_set=(X_test, y_test), verbose=False)\n",
    "\n",
    "# 预测\n",
    "y_pred_catboost = catboost_model.predict(X_test)\n",
    "y_prob_catboost = catboost_model.predict_proba(X_test)[:, 1]\n",
    "\n",
    "# 准确率\n",
    "accuracy_catboost = accuracy_score(y_test, y_pred_catboost)\n",
    "print(f\"CatBoost 准确率: {accuracy_catboost:.4f}\")\n",
    "print(\"catboost 分类报告:\")\n",
    "print(classification_report(y_test, y_pred_catboost))"
   ],
   "outputs": [],
   "execution_count": null
  },
  {
   "cell_type": "code",
   "metadata": {},
   "source": [
    "cm_catboost = confusion_matrix(y_test, y_pred_catboost)\n",
    "plt.figure(figsize=(6, 5))\n",
    "sns.heatmap(cm_catboost, annot=True, fmt='d', cmap='Blues')\n",
    "plt.title('CatBoost 混淆矩阵-宋傲操')\n",
    "plt.xlabel('预测标签')\n",
    "plt.ylabel('真实标签')\n",
    "os.makedirs(f'picture/CatBoost', exist_ok=True)\n",
    "plt.savefig(f'picture/CatBoost/confusion_matrix.png')\n",
    "plt.show()\n",
    "\n",
    "# ROC 曲线\n",
    "fpr_catboost, tpr_catboost, _ = roc_curve(y_test, y_prob_catboost)\n",
    "roc_auc_catboost = auc(fpr_catboost, tpr_catboost)\n",
    "plt.figure(figsize=(6, 5))\n",
    "plt.plot(fpr_catboost, tpr_catboost, label=f'CatBoost (AUC = {roc_auc_catboost:.2f})')\n",
    "plt.plot([0, 1], [0, 1], 'k--')\n",
    "plt.xlabel('假阳性率')\n",
    "plt.ylabel('真阳性率')\n",
    "plt.title('CatBoost ROC 曲线-宋傲操')\n",
    "plt.legend(loc='lower right')\n",
    "plt.grid(True)\n",
    "plt.savefig(f'picture/CatBoost/roc_curve.png')\n",
    "plt.show()"
   ],
   "outputs": [],
   "execution_count": null
  },
  {
   "cell_type": "code",
   "metadata": {},
   "source": [
    "# 损失曲线\n",
    "results_dict = catboost_model.get_evals_result()\n",
    "plt.figure(figsize=(8, 6))\n",
    "plt.plot(results_dict['validation']['Logloss'], label='Validation Loss')\n",
    "plt.title('CatBoost 损失曲线-宋傲操')\n",
    "plt.xlabel('Iteration')\n",
    "plt.ylabel('Log Loss')\n",
    "plt.legend()\n",
    "plt.grid(True)\n",
    "plt.savefig(f'picture/CatBoost/loss_curve.png')\n",
    "plt.show()"
   ],
   "outputs": [],
   "execution_count": null
  },
  {
   "cell_type": "markdown",
   "metadata": {},
   "source": [
    "### Elastic Net logistic Regression"
   ]
  },
  {
   "metadata": {},
   "cell_type": "code",
   "source": [
    "import pandas as pd\n",
    "import numpy as np\n",
    "from sklearn.model_selection import train_test_split\n",
    "from sklearn.preprocessing import StandardScaler\n",
    "from sklearn.linear_model import SGDClassifier\n",
    "from sklearn.metrics import accuracy_score, confusion_matrix, roc_curve, auc\n",
    "import matplotlib.pyplot as plt\n",
    "import seaborn as sns\n",
    "from sklearn.model_selection import learning_curve\n",
    "from sklearn.metrics import accuracy_score, confusion_matrix, roc_curve, auc, precision_recall_curve, classification_report\n",
    "# 加载数据\n",
    "df = pd.read_csv('breast cancer.csv')\n",
    "df = df.drop(['id', 'Unnamed: 32'], axis=1)\n",
    "df['diagnosis'] = df['diagnosis'].map({'M': 1, 'B': 0})\n",
    "X = df.drop('diagnosis', axis=1)\n",
    "y = df['diagnosis']\n",
    "# 设置支持中文的字体（例如 SimHei）\n",
    "plt.rcParams['font.sans-serif'] = ['SimHei']  # 使用黑体\n",
    "plt.rcParams['axes.unicode_minus'] = False    # 解决负号显示问题\n",
    "# 标准化和分割数据集\n",
    "scaler = StandardScaler()\n",
    "X = scaler.fit_transform(X)\n",
    "X_train, X_test, y_train, y_test = train_test_split(X, y, test_size=0.2, random_state=42)\n",
    "\n",
    "print(\"数据预处理完成：X_train shape:\", X_train.shape, \"X_test shape:\", X_test.shape)\n",
    "print(\"训练集正负类分布:\", pd.Series(y_train).value_counts())\n",
    "print(\"测试集正负类分布:\", pd.Series(y_test).value_counts())"
   ],
   "outputs": [],
   "execution_count": null
  },
  {
   "metadata": {},
   "cell_type": "code",
   "source": [
    "## 训练 Elastic Net Logistic Regression 模型\n",
    "# 定义 Elastic Net Logistic Regression 模型\n",
    "elasticnet_lr_model = SGDClassifier(loss='log_loss', penalty='elasticnet', l1_ratio=0.5, alpha=0.0001, max_iter=1000, random_state=42)\n",
    "\n",
    "# 训练模型\n",
    "elasticnet_lr_model.fit(X_train, y_train)\n",
    "\n",
    "# 预测\n",
    "y_pred_elasticnet = elasticnet_lr_model.predict(X_test)\n",
    "y_prob_elasticnet = elasticnet_lr_model.predict_proba(X_test)[:, 1]\n",
    "\n",
    "# 准确率\n",
    "accuracy_elasticnet = accuracy_score(y_test, y_pred_elasticnet)\n",
    "print(f\"Elastic Net LR 准确率: {accuracy_elasticnet:.4f}\")\n",
    "print(\" Elastic Net LR分类报告:\")\n",
    "print(classification_report(y_test, y_pred_elasticnet))"
   ],
   "outputs": [],
   "execution_count": null
  },
  {
   "cell_type": "code",
   "metadata": {},
   "source": [
    "# 混淆矩阵\n",
    "cm_elasticnet = confusion_matrix(y_test, y_pred_elasticnet)\n",
    "plt.figure(figsize=(6, 5))\n",
    "sns.heatmap(cm_elasticnet, annot=True, fmt='d', cmap='Blues')\n",
    "plt.title('Elastic Net LR 混淆矩阵-宋傲操')\n",
    "plt.xlabel('预测标签')\n",
    "plt.ylabel('真实标签')\n",
    "os.makedirs(f'picture/Elastic Net logistic Regression', exist_ok=True)\n",
    "plt.savefig(f'picture/Elastic Net logistic Regression/confusion_matrix.png')\n",
    "plt.show()\n",
    "\n",
    "# ROC 曲线\n",
    "fpr_elasticnet, tpr_elasticnet, _ = roc_curve(y_test, y_prob_elasticnet)\n",
    "roc_auc_elasticnet = auc(fpr_elasticnet, tpr_elasticnet)\n",
    "plt.figure(figsize=(6, 5))\n",
    "plt.plot(fpr_elasticnet, tpr_elasticnet, label=f'Elastic Net LR (AUC = {roc_auc_elasticnet:.2f})')\n",
    "plt.plot([0, 1], [0, 1], 'k--')\n",
    "plt.xlabel('假阳性率')\n",
    "plt.ylabel('真阳性率')\n",
    "plt.title('Elastic Net LR ROC 曲线-宋傲操')\n",
    "plt.legend(loc='lower right')\n",
    "plt.grid(True)\n",
    "plt.savefig(f'picture/Elastic Net logistic Regression/roc_curve.png')\n",
    "plt.show()"
   ],
   "outputs": [],
   "execution_count": null
  },
  {
   "cell_type": "code",
   "metadata": {},
   "source": [
    "# 学习曲线\n",
    "train_sizes, train_scores, val_scores = learning_curve(elasticnet_lr_model, X_train, y_train, cv=5, n_jobs=-1)\n",
    "train_mean = np.mean(train_scores, axis=1)\n",
    "val_mean = np.mean(val_scores, axis=1)\n",
    "plt.figure(figsize=(8, 6))\n",
    "plt.plot(train_sizes, train_mean, label='Training Score')\n",
    "plt.plot(train_sizes, val_mean, label='Validation Score')\n",
    "plt.title('Elastic Net LR 学习曲线-宋傲操')\n",
    "plt.xlabel('Training Examples')\n",
    "plt.ylabel('Score')\n",
    "plt.legend(loc='best')\n",
    "plt.grid(True)\n",
    "plt.savefig(f'picture/Elastic Net logistic Regression/learning_curve.png')\n",
    "plt.show()"
   ],
   "outputs": [],
   "execution_count": null
  }
 ],
 "metadata": {
  "kernelspec": {
   "display_name": "base",
   "language": "python",
   "name": "python3"
  },
  "language_info": {
   "codemirror_mode": {
    "name": "ipython",
    "version": 3
   },
   "file_extension": ".py",
   "mimetype": "text/x-python",
   "name": "python",
   "nbconvert_exporter": "python",
   "pygments_lexer": "ipython3",
   "version": "3.12.7"
  }
 },
 "nbformat": 4,
 "nbformat_minor": 4
}
